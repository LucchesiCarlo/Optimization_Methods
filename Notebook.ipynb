{
 "cells": [
  {
   "cell_type": "markdown",
   "id": "a1eaed66-8edb-461c-9330-590b35f8ee88",
   "metadata": {},
   "source": [
    "# Optimization Methods Project Work: SMO and DCD-Linear for training SVM\n",
    "\n",
    "This notebook will contain some code that implements the SMO and DCD-Linear algorithm, plus the results."
   ]
  },
  {
   "cell_type": "markdown",
   "id": "d9bd80a2-121b-44ba-bb29-7f984b1fd694",
   "metadata": {},
   "source": [
    "## Testing the environment\n",
    "\n",
    "The following cell will simply verify if all the libraries necessary to run the code are correctly installed."
   ]
  },
  {
   "cell_type": "code",
   "execution_count": 60,
   "id": "2e951473-fb90-43f0-a46f-768080d5fbf4",
   "metadata": {},
   "outputs": [
    {
     "name": "stdout",
     "output_type": "stream",
     "text": [
      "Everything is good!\n"
     ]
    }
   ],
   "source": [
    "import numpy as np\n",
    "import sklearn\n",
    "import matplotlib as plt\n",
    "import math\n",
    "\n",
    "print(\"Everything is good!\")"
   ]
  },
  {
   "cell_type": "markdown",
   "id": "9575adfd-ebce-48a2-b354-cce48c8f4d22",
   "metadata": {},
   "source": [
    "## Defining the Dual Problem"
   ]
  },
  {
   "cell_type": "markdown",
   "id": "052a82c1-39da-495f-b77d-788f67e5cc1a",
   "metadata": {},
   "source": [
    "### The Bias One (For SMO)\n",
    "\n",
    "As we know, the formulation of the dual problem for training a SVM is:\n",
    "$$\n",
    "\\begin{gather*}\n",
    "\\min_{\\alpha} \\frac{1}{2}\\alpha^TQ\\alpha - e^T\\alpha \\\\\n",
    "\\forall i\\ 0 \\leq \\alpha_i \\leq C\\ \\ \\sum \\limits_i^n \\alpha_iy_i = 0\n",
    "\\end{gather*}\n",
    "$$\n",
    "\n",
    "As stated in the Project Goals, we will use the Most Violating Pair rule to select the variables to change. So, to implement this algorithm efficiently, we need those elements:\n",
    "* A function that calculates the derivatives\n",
    "* A function that adjust the derivative after changing $\\alpha$ \n",
    "* A function that extract the most violating pair.\n",
    "\n",
    "To sum up all this functionality, they will be implemented inside a class. The constructor will receive the set of Xs and Ys, and using that will derive Q."
   ]
  },
  {
   "cell_type": "code",
   "execution_count": 63,
   "id": "66e08b30-7578-4d4d-92a3-5ceafa96e6d3",
   "metadata": {},
   "outputs": [],
   "source": [
    "class DualSVMProblem:\n",
    "\n",
    "    def __init__(self, Xs, Ys, C, epsilon = 10e-4):\n",
    "        self.X = Xs\n",
    "        self.Y = Ys\n",
    "        self.C = C\n",
    "        self.a = numpy.zeros(Ys.shape[0])\n",
    "        self.e = np.ones_like(self.a)\n",
    "        self.epsilon = epsilon\n",
    "\n",
    "        mat = np.stack([Ys.T] * Xs.shape[1], axis = 1)\n",
    "        \n",
    "        Z = Xs * mat\n",
    "        self.Q = Z @ Z.T\n",
    "\n",
    "        self.d = self.Q @ self.a - self.e\n",
    "\n",
    "    def getA(self):\n",
    "        return self.a\n",
    "        \n",
    "    def getDerivative(self):\n",
    "        return self.d    \n",
    "\n",
    "    def getMostViolatingPair(self):\n",
    "        self.directions = self.d / self.Y\n",
    "        min_idx = -1\n",
    "        min_value = np.inf\n",
    "        max_idx = -1\n",
    "        max_value = -np.inf\n",
    "\n",
    "        for i in range(len(self.a)):\n",
    "            if (self.a[i] > self.epsilon and self.Y == 1 and self.directions[i] < min_value):\n",
    "                min_value = self.directions[i]\n",
    "                min_idx = i\n",
    "            if (self.a[i] < self.C - self.epsilon and self.Y == -1 and self.directions[i] < min_value):\n",
    "                min_value = self.directions[i]\n",
    "                min_idx = i\n",
    "                \n",
    "            if (self.a[i] > self.epsilon and self.Y == -1 and self.directions[i] > max_value):\n",
    "                max_value = self.directions[i]\n",
    "                max_idx = i\n",
    "            if (self.a[i] < self.C - self.epsilon and self.Y == 1 and self.directions[i] < max_value):\n",
    "                max_value = self.directions[i]\n",
    "                max_idx = i\n",
    "\n",
    "        if min_idx == -1 or max_idx == -1:\n",
    "            return None\n",
    "                \n",
    "        return (min_idx, max_idx)\n",
    "\n",
    "    def updateA(self, idx1, a1, idx2, a2):\n",
    "        self.d = self.Q[idx1] * (a1 - self.a[idx1]) + self.Q[idx2] * (a2 - self.a[idx2]) + self.d\n"
   ]
  },
  {
   "cell_type": "code",
   "execution_count": 66,
   "id": "98bd03a6-1ec2-4f40-9708-ff03ab0c7847",
   "metadata": {},
   "outputs": [
    {
     "name": "stdout",
     "output_type": "stream",
     "text": [
      "Everything is working as expected!\n"
     ]
    }
   ],
   "source": [
    "# Let's test the code with some artificial data\n",
    "X = np.array([[1, 2, 3], [4, 5, 6]])\n",
    "Y = np.array([1, -1])\n",
    "mat = np.stack([Y.T] * X.shape[1], axis = 1)\n",
    "C = 1\n",
    "\n",
    "# The correct Q matrix\n",
    "Q = np.zeros((2, 2))\n",
    "for i in range(2):\n",
    "    for j in range(2):\n",
    "        Q[i][j] = Y[i] * Y[j] * X[i] @ X[j]\n",
    "\n",
    "problem = DualSVMProblem(X, Y, C)\n",
    "\n",
    "ok = True\n",
    "if ((Q != problem.Q).all()):\n",
    "    print(\"The matix calculation is wrong\")\n",
    "    \n",
    "if ((np.array([-1, -1]) != problem.getDerivative()).all()):\n",
    "    print(\"The derivative function if wrong\")\n",
    "\n",
    "problem.updateA(0, 1, 1, 1)\n",
    "if ((Q @ np.ones(2) - np.ones(2) != problem.getDerivative()).all()):\n",
    "    print(\"The updates of variables doesn't update the derivative in the right way\")\n",
    "\n",
    "# TODO test the method about the most violating pairs\n",
    "\n",
    "if ok:\n",
    "    print(\"Everything is working as expected!\")"
   ]
  },
  {
   "cell_type": "code",
   "execution_count": null,
   "id": "dd8d9a42-d67c-41eb-982c-d4358455f580",
   "metadata": {},
   "outputs": [],
   "source": []
  }
 ],
 "metadata": {
  "kernelspec": {
   "display_name": "Python 3 (ipykernel)",
   "language": "python",
   "name": "python3"
  },
  "language_info": {
   "codemirror_mode": {
    "name": "ipython",
    "version": 3
   },
   "file_extension": ".py",
   "mimetype": "text/x-python",
   "name": "python",
   "nbconvert_exporter": "python",
   "pygments_lexer": "ipython3",
   "version": "3.12.2"
  }
 },
 "nbformat": 4,
 "nbformat_minor": 5
}
