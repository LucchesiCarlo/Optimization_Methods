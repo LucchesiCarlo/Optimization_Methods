{
 "cells": [
  {
   "cell_type": "markdown",
   "id": "a1eaed66-8edb-461c-9330-590b35f8ee88",
   "metadata": {},
   "source": [
    "# Optimization Methods Project Work: SMO and DCD-Linear for training SVM\n",
    "\n",
    "This notebook will contain some code that implements the SMO and DCD-Linear algorithm, plus the results."
   ]
  },
  {
   "cell_type": "markdown",
   "id": "d9bd80a2-121b-44ba-bb29-7f984b1fd694",
   "metadata": {},
   "source": [
    "## Testing the environment\n",
    "\n",
    "The following cell will simply verify if all the libraries necessary to run the code are correctly installed."
   ]
  },
  {
   "cell_type": "code",
   "execution_count": 1,
   "id": "9dce27a1-20d8-49cf-92da-c5269717e633",
   "metadata": {},
   "outputs": [
    {
     "name": "stdout",
     "output_type": "stream",
     "text": [
      "Everything is good!\n"
     ]
    }
   ],
   "source": [
    "import numpy as np\n",
    "import sklearn\n",
    "import matplotlib.pyplot as plt\n",
    "import math\n",
    "import random\n",
    "import time\n",
    "import os\n",
    "import json\n",
    "import pandas as pd\n",
    "from numpy.linalg import norm\n",
    "from sklearn.datasets import load_svmlight_file\n",
    "from sklearn.datasets import dump_svmlight_file\n",
    "from sklearn.svm import LinearSVC\n",
    "from sklearn.metrics import classification_report\n",
    "from sklearn.model_selection import train_test_split\n",
    "\n",
    "random.seed(91212) # This function allows to replicate the same experiemtns even if the random function is used\n",
    "\n",
    "print(\"Everything is good!\")"
   ]
  },
  {
   "cell_type": "code",
   "execution_count": 2,
   "id": "9c47c53b-8040-42cb-8e26-95a57f99f984",
   "metadata": {},
   "outputs": [],
   "source": [
    "def load_dataset(name: str, dimension = None, features = None):\n",
    "    bias = load_svmlight_file(name)\n",
    "    bias = (bias[0].toarray(), bias[1])\n",
    "\n",
    "    if(dimension is not None):\n",
    "        permutation = np.random.permutation(bias[0].shape[0])\n",
    "\n",
    "        indexs = permutation[0:dimension]\n",
    "        bias = (bias[0][indexs], bias[1][indexs])\n",
    "\n",
    "    if features is not None:\n",
    "        bias = (bias[0][:, features], bias[1])\n",
    "    \n",
    "    new_column = np.atleast_2d(np.ones(bias[0].shape[0])).T\n",
    "    unbias = (np.hstack([bias[0], new_column]), bias[1])\n",
    "\n",
    "    return (bias, unbias)\n",
    "    \n",
    "def feature_extractor(feature_num: int, original_num: int):\n",
    "    permutation = np.random.permutation(original_num)\n",
    "    return np.sort(permutation[0:feature_num])"
   ]
  },
  {
   "cell_type": "markdown",
   "id": "9575adfd-ebce-48a2-b354-cce48c8f4d22",
   "metadata": {},
   "source": [
    "## Defining the Dual Problem"
   ]
  },
  {
   "cell_type": "markdown",
   "id": "052a82c1-39da-495f-b77d-788f67e5cc1a",
   "metadata": {},
   "source": [
    "### The Bias One (For SMO)\n",
    "\n",
    "As we know, the formulation of the dual problem for training a SVM is:\n",
    "$$\n",
    "\\begin{gather*}\n",
    "\\min_{\\alpha} \\frac{1}{2}\\alpha^TQ\\alpha - e^T\\alpha \\\\\n",
    "\\forall i\\ 0 \\leq \\alpha_i \\leq C\\ \\ \\sum \\limits_i^n \\alpha_iy_i = 0\n",
    "\\end{gather*}\n",
    "$$\n",
    "\n",
    "As stated in the Project Goals, we will use the Most Violating Pair rule to select the variables to change. So, to implement this algorithm efficiently, we need those elements:\n",
    "* A function that calculates the derivatives\n",
    "* A function that adjust the derivative after changing $\\alpha$ \n",
    "* A function that extract the most violating pair.\n",
    "\n",
    "To sum up all this functionality, they will be implemented inside a class. The constructor will receive the set of Xs and Ys, and using that will derive Q."
   ]
  },
  {
   "cell_type": "code",
   "execution_count": 3,
   "id": "66e08b30-7578-4d4d-92a3-5ceafa96e6d3",
   "metadata": {},
   "outputs": [],
   "source": [
    "class DualSVMProblem:\n",
    "\n",
    "    def __init__(self, Xs, Ys, C, epsilon = 1e-5, sparse = False):\n",
    "        self.X = Xs\n",
    "        self.Y = Ys\n",
    "        self.C = C\n",
    "        self.a = np.zeros_like(Ys, dtype = float)\n",
    "        self.e = np.ones_like(self.a)\n",
    "        self.epsilon = epsilon\n",
    "        self.sparse = sparse\n",
    "\n",
    "        if sparse:\n",
    "            self.calculated = [False] * self.Y.shape[0]\n",
    "            self.Q = {}\n",
    "        else:\n",
    "            mat = np.stack([Ys.T] * Xs.shape[1], axis = 1)\n",
    "            \n",
    "            Z = Xs * mat\n",
    "            self.Q = Z @ Z.T\n",
    "        \n",
    "        self.d = - self.e\n",
    "\n",
    "    def getA(self):\n",
    "        return self.a\n",
    "        \n",
    "    def getDerivative(self):\n",
    "        return self.d    \n",
    "\n",
    "    def getMostViolatingPair(self):\n",
    "        \n",
    "        directions = self.d / self.Y\n",
    "        min_idx = -1\n",
    "        min_value = np.inf\n",
    "        max_idx = -1\n",
    "        max_value = -np.inf\n",
    "        \n",
    "        R = directions.copy()\n",
    "        R[np.logical_and(self.a < self.epsilon, self.Y == -1)] = np.inf\n",
    "        R[np.logical_and(self.a > (self.C - self.epsilon), self.Y == 1)] = np.inf\n",
    "\n",
    "        S = directions.copy()\n",
    "        S[np.logical_and(self.a < self.epsilon, self.Y == 1)] = -np.inf\n",
    "        S[np.logical_and(self.a > (self.C - self.epsilon), self.Y == -1)] = -np.inf\n",
    "\n",
    "        min_idx = np.argmin(R)\n",
    "        max_idx = np.argmax(S)\n",
    "\n",
    "        if R[min_idx] == np.inf or S[max_idx] == -np.inf:\n",
    "            return None\n",
    "                \n",
    "        return (min_idx, max_idx)\n",
    "\n",
    "    def updateA(self, idx1, a1, idx2, a2):\n",
    "\n",
    "        if self.sparse:\n",
    "            self.d = self.getQColumn(idx1) * (a1 - self.a[idx1]) + self.getQColumn(idx2) * (a2 - self.a[idx2]) + self.d\n",
    "        else:\n",
    "            self.d = self.Q[idx1] * (a1 - self.a[idx1]) + self.Q[idx2] * (a2 - self.a[idx2]) + self.d\n",
    "        \n",
    "        self.a[idx1] = a1\n",
    "        self.a[idx2] = a2\n",
    "\n",
    "    def getParameters(self):\n",
    "        mat = np.stack([self.a.T * self.Y.T] * self.X.shape[1], axis = 1)\n",
    "        w = np.sum(mat * self.X, axis = 0)\n",
    "        b = 0\n",
    "        for i in range(len(self.a)):\n",
    "            if(self.a[i] < self.epsilon or self.a[i] > self.C - self.epsilon):\n",
    "                continue\n",
    "            b = 1 / self.Y[i] - w @ self.X[i]\n",
    "            break        \n",
    "        return (w, b)\n",
    "\n",
    "    def getQColumn(self, i):\n",
    "        if self.sparse:\n",
    "            if not self.calculated[i]:\n",
    "                self.Q[i] = self.Y[i] * (self.Y * (self.X @ self.X[i]))\n",
    "                self.calculated[i] = True\n",
    "        return self.Q[i]\n",
    "        \n",
    "\n",
    "class SVM:\n",
    "    def __init__(self, w, b):\n",
    "        self.w = w\n",
    "        self.b = b\n",
    "\n",
    "    def __call__(self, x):\n",
    "        return np.sign(x @ self.w + self.b)\n",
    "\n",
    "def dual_loss_svm(a, Q):\n",
    "    return 0.5 * (a.T @ Q @ a) - np.sum(a)\n",
    "\n",
    "def loss_svm_obj(svm, C, X, y):\n",
    "    return loss_svm(svm.w, svm.b, C, X, y)\n",
    "    \n",
    "def loss_svm(w, b, C, X, y):\n",
    "    psi = np.maximum(np.zeros_like(y), np.ones_like(y) - y * (X @ w + np.ones_like(y) * b))\n",
    "    return 0.5 * (w.T @ w) + C * np.sum(psi)"
   ]
  },
  {
   "cell_type": "code",
   "execution_count": 4,
   "id": "98bd03a6-1ec2-4f40-9708-ff03ab0c7847",
   "metadata": {},
   "outputs": [
    {
     "name": "stdout",
     "output_type": "stream",
     "text": [
      "Everything is working as expected!\n"
     ]
    }
   ],
   "source": [
    "# Let's test the code with some artificial data\n",
    "X = np.array([[1, 2, 3], [4, 5, 6]])\n",
    "Y = np.array([1, -1])\n",
    "C = 5\n",
    "\n",
    "# The safe way to calculate matrix Q\n",
    "Q = np.zeros((2, 2))\n",
    "for i in range(2):\n",
    "    for j in range(2):\n",
    "        Q[i][j] = Y[i] * Y[j] * X[i] @ X[j]\n",
    "\n",
    "problem = DualSVMProblem(X, Y, C)\n",
    "\n",
    "ok = True\n",
    "    \n",
    "if ((np.array([-1, -1]) != problem.getDerivative()).all()):\n",
    "    ok = False\n",
    "    print(\"The derivative function if wrong\")\n",
    "\n",
    "update = np.array([1, 2])\n",
    "problem.updateA(0, update[0], 1, update[1])\n",
    "\n",
    "if (norm(Q[0] - problem.getQColumn(0)) > 1e-3 or norm(Q[1] - problem.getQColumn(1)) > 1e-3):\n",
    "    ok = False\n",
    "    print(\"The matix calculation is wrong\")\n",
    "    \n",
    "if ((Q @ update - np.ones(2) != problem.getDerivative()).all()):\n",
    "    ok = False\n",
    "    print(\"The updates of variables doesn't update the derivative in the right way\")\n",
    "\n",
    "elements = problem.getDerivative() / Y\n",
    "\n",
    "if not (problem.getMostViolatingPair()[0] == (0 if elements[0] < elements[1] else 1) and problem.getMostViolatingPair()[1] == (0 if elements[0] > elements[1] else 1)):\n",
    "    ok = False\n",
    "    print(\"The calculation of the most violating pair is wrong\")\n",
    "    # This test is a bit odd and not exaustive, but can help\n",
    "\n",
    "if ok:\n",
    "    print(\"Everything is working as expected!\")"
   ]
  },
  {
   "cell_type": "markdown",
   "id": "b7369272-b06d-47ea-9f7c-490ee7b7b4c6",
   "metadata": {},
   "source": [
    "## Implementation of SMO\n",
    "\n",
    "After implementing core elements for the SMO algorithm, it's time to get them together and build the actual result.\n",
    "In this implementation, I realized a function that execute a single iteration of the algorithm, leaving the check of convergence outside. The objective is to reuse the external function with the different approach (DCD-Linear), and then make easier to instrument the code to measure some components like loss, validation, etc."
   ]
  },
  {
   "cell_type": "code",
   "execution_count": 5,
   "id": "d3b9a1bb-e679-46c6-8407-2b7170ade1df",
   "metadata": {},
   "outputs": [],
   "source": [
    "from typing import Callable\n",
    "def trainingSMO(problem: DualSVMProblem, step: Callable[[DualSVMProblem], bool], loss_func: Callable[[None], float] = None, validation_func: Callable[[None], float] = None, epsilon = 1e-5, verbose = False):\n",
    "    loss = []\n",
    "    validation = []\n",
    "    \n",
    "    while(True): \n",
    "        (min_idx, max_idx) = problem.getMostViolatingPair()\n",
    "        elements = problem.getDerivative() / problem.Y\n",
    "\n",
    "        if verbose:\n",
    "            print(f\"Stopping condition: {elements[max_idx] - elements[min_idx]}\")\n",
    "        if(elements[min_idx] + epsilon > elements[max_idx]):\n",
    "            break\n",
    "        \n",
    "        result = step(problem)            \n",
    "        (w, b) = problem.getParameters()\n",
    "        svm = SVM(w, b)\n",
    "        \n",
    "        if(loss_func is not None):\n",
    "            loss.append(loss_func())\n",
    "    \n",
    "        if(validation_func is not None):\n",
    "            validation.append(validation_func())\n",
    "\n",
    "        if not result:\n",
    "            # If the step method give False as a result indicates an error or a stop condition (i.e. having a derivative under the tollerance)\n",
    "            break\n",
    "\n",
    "    return (loss, validation)\n",
    "\n",
    "def SMO_step(problem: DualSVMProblem, epsilon: float = 1e-5):\n",
    "    test = problem.getMostViolatingPair()\n",
    "    if(test is None):\n",
    "        raise Exception(\"The problem did not give a valid violating pair\")\n",
    "    (min_idx, max_idx) = (test[0], test[1])\n",
    "\n",
    "    direction = np.zeros_like(problem.a)\n",
    "    direction[min_idx] = 1 * problem.Y[min_idx]\n",
    "    direction[max_idx] = - 1 * problem.Y[max_idx] #In theory I should divide, but y is in {-1, 1} making the multiplication equivalent, but more efficient\n",
    "\n",
    "    derivative = problem.getDerivative()\n",
    "\n",
    "    b = problem.C - problem.a[min_idx] if direction[min_idx] > 0 else problem.a[min_idx]\n",
    "    b = min(b, problem.C - problem.a[max_idx] if direction[max_idx] > 0 else problem.a[max_idx])\n",
    "    \n",
    "    if b < epsilon:\n",
    "        return False\n",
    "\n",
    "    tmp = problem.getQColumn(min_idx) * problem.Y[min_idx] - problem.getQColumn(max_idx) * problem.Y[max_idx]   \n",
    "    value = direction.T @ tmp\n",
    "\n",
    "    if value > epsilon:\n",
    "        b = min(b, -(derivative.T @ direction) / value)\n",
    "\n",
    "    problem.updateA(min_idx, problem.a[min_idx] + b * direction[min_idx], max_idx, problem.a[max_idx] + b * direction[max_idx])\n",
    "    return True    "
   ]
  },
  {
   "cell_type": "markdown",
   "id": "0ebfe3fd-1d40-498b-86d3-981c76c60526",
   "metadata": {},
   "source": [
    "## Testing the Code\n",
    "\n",
    "In the following cells, I will use a very simple classification problem to see if the code works at all. [This dataset](https://www.csie.ntu.edu.tw/~cjlin/libsvmtools/datasets/binary.html#breast-cancer) is composed by only 683 elements, everyone of only 10 features. This dataset is chosen dues to it contained dimension. In fact, this implementation of the Dual SVM explicitly calculate the Q matrix, something that can become prohibitive very quickly in the increase of elements."
   ]
  },
  {
   "cell_type": "code",
   "execution_count": 6,
   "id": "30a518ef-5fca-428d-9340-569198cf8b47",
   "metadata": {},
   "outputs": [],
   "source": [
    "(Xs, Ys) = load_svmlight_file(\"datasets/covtype_scale\")\n",
    "Ys[Ys == 2] = -1\n",
    "\n",
    "Xs = Xs.toarray()\n",
    "\n",
    "dump_svmlight_file(Xs, Ys, \"datasets/covtype_ones\")"
   ]
  },
  {
   "cell_type": "code",
   "execution_count": 7,
   "id": "8f51036a-2699-43c4-8c23-cfddcb56838e",
   "metadata": {},
   "outputs": [],
   "source": [
    "(Xs, Ys) = load_svmlight_file(\"datasets/breast_cancer_scale\")\n",
    "Ys[Ys == 2] = 1\n",
    "Ys[Ys == 4] = -1 # TODO control the description to decide what is positive and what is negative\n",
    "\n",
    "Xs = Xs.toarray()\n",
    "\n",
    "dump_svmlight_file(Xs, Ys, \"datasets/breast_cancer_ones\")\n",
    "\n",
    "# There is a lot to say (Xs originally is a sparce matrix, not scaled values broke the model, Ys classes are 2 and 4)"
   ]
  },
  {
   "cell_type": "code",
   "execution_count": 8,
   "id": "2527adb5-0227-4932-b206-5e3ca3be7cbc",
   "metadata": {},
   "outputs": [
    {
     "name": "stdout",
     "output_type": "stream",
     "text": [
      "Report on train set:\n",
      "              precision    recall  f1-score   support\n",
      "\n",
      "        -1.0       0.96      0.96      0.96       188\n",
      "         1.0       0.98      0.98      0.98       358\n",
      "\n",
      "    accuracy                           0.97       546\n",
      "   macro avg       0.97      0.97      0.97       546\n",
      "weighted avg       0.97      0.97      0.97       546\n",
      "\n",
      "Report on test set:\n",
      "              precision    recall  f1-score   support\n",
      "\n",
      "        -1.0       0.93      0.98      0.95        51\n",
      "         1.0       0.99      0.95      0.97        86\n",
      "\n",
      "    accuracy                           0.96       137\n",
      "   macro avg       0.96      0.97      0.96       137\n",
      "weighted avg       0.96      0.96      0.96       137\n",
      "\n"
     ]
    }
   ],
   "source": [
    "(train_Xs, test_Xs, train_Ys, test_Ys)  = train_test_split(Xs, Ys, test_size = 0.20)\n",
    "\n",
    "base_svm = LinearSVC(C = 10)\n",
    "base_svm.fit(train_Xs, train_Ys)\n",
    "\n",
    "train_preds = base_svm.predict(train_Xs)\n",
    "test_preds = base_svm.predict(test_Xs)\n",
    "\n",
    "\n",
    "print(\"Report on train set:\")\n",
    "print(classification_report(train_Ys, train_preds, zero_division = 0))\n",
    "\n",
    "print(\"Report on test set:\")\n",
    "print(classification_report(test_Ys, test_preds, zero_division = 0))"
   ]
  },
  {
   "cell_type": "code",
   "execution_count": 9,
   "id": "c9ff7ffa-a036-4b5c-b3b8-84e12eb643c8",
   "metadata": {},
   "outputs": [
    {
     "name": "stdout",
     "output_type": "stream",
     "text": [
      "Result of the model trained using SMO on training set:\n",
      "              precision    recall  f1-score   support\n",
      "\n",
      "        -1.0       0.96      0.97      0.97       188\n",
      "         1.0       0.99      0.98      0.98       358\n",
      "\n",
      "    accuracy                           0.98       546\n",
      "   macro avg       0.97      0.98      0.98       546\n",
      "weighted avg       0.98      0.98      0.98       546\n",
      "\n",
      "Result of the model trained using SMO on test set:\n",
      "              precision    recall  f1-score   support\n",
      "\n",
      "        -1.0       0.91      0.98      0.94        51\n",
      "         1.0       0.99      0.94      0.96        86\n",
      "\n",
      "    accuracy                           0.96       137\n",
      "   macro avg       0.95      0.96      0.95       137\n",
      "weighted avg       0.96      0.96      0.96       137\n",
      "\n"
     ]
    }
   ],
   "source": [
    "base_smo_problem = DualSVMProblem(train_Xs, train_Ys, C = 10)\n",
    "\n",
    "(_, _) = trainingSMO(base_smo_problem, SMO_step, epsilon = 1e-2)\n",
    "\n",
    "(w, b) = base_smo_problem.getParameters()\n",
    "smo_svm = SVM(w, b)\n",
    "smo_train_preds = smo_svm(train_Xs)\n",
    "smo_test_preds = smo_svm(test_Xs)\n",
    "\n",
    "print(\"Result of the model trained using SMO on training set:\")\n",
    "print(classification_report(train_Ys, smo_train_preds, zero_division=0))\n",
    "\n",
    "print(\"Result of the model trained using SMO on test set:\")\n",
    "print(classification_report(test_Ys, smo_test_preds, zero_division=0))"
   ]
  },
  {
   "cell_type": "code",
   "execution_count": 10,
   "id": "13d003af-5138-4bef-9e55-a9d98904a8c6",
   "metadata": {},
   "outputs": [
    {
     "name": "stdout",
     "output_type": "stream",
     "text": [
      "Difference in norm of w: 1.089085699365645\n",
      "\"Correlation\" between the direction of ws : 0.9086284488862078\n",
      "Difference in the value b: [1.30550484]\n"
     ]
    }
   ],
   "source": [
    "print(f\"Difference in norm of w: {norm(w - base_svm.coef_)}\")\n",
    "print(f'\"Correlation\" between the direction of ws : {(w.T @ base_svm.coef_[0]) / (norm(w) * norm(base_svm.coef_))}')\n",
    "print(f\"Difference in the value b: {abs(b - base_svm.intercept_)}\")"
   ]
  },
  {
   "cell_type": "markdown",
   "id": "87110bed-84a9-4d1a-bb9a-646ca89a9935",
   "metadata": {},
   "source": [
    "## Verifying if the sparse implementation gives some benefits"
   ]
  },
  {
   "cell_type": "code",
   "execution_count": 11,
   "id": "18850fbe-7011-438e-81a8-651a8ff32108",
   "metadata": {},
   "outputs": [
    {
     "name": "stdout",
     "output_type": "stream",
     "text": [
      "Time Taken by the base method: 16.590061902999878\n"
     ]
    }
   ],
   "source": [
    "(A, B) = load_dataset(\"datasets/covtype_ones\", dimension = 5000)\n",
    "\n",
    "start_time = time.time()\n",
    "unsparse_smo_problem = DualSVMProblem(A[0], A[1], C = 1)\n",
    "(_, _) = trainingSMO(unsparse_smo_problem, SMO_step, epsilon = 1e-2)\n",
    "time_taken = time.time() - start_time\n",
    "print(f\"Time Taken by the base method: {time_taken}\")"
   ]
  },
  {
   "cell_type": "code",
   "execution_count": 12,
   "id": "a1c39bb1-96d8-4f6d-9b1e-cb7344434af3",
   "metadata": {},
   "outputs": [
    {
     "name": "stdout",
     "output_type": "stream",
     "text": [
      "Time Taken by the sparce method: 16.63173508644104\n"
     ]
    }
   ],
   "source": [
    "start_time = time.time()\n",
    "sparse_smo_problem = DualSVMProblem(A[0], A[1], C = 1, sparse = True)\n",
    "(_, _) = trainingSMO(sparse_smo_problem, SMO_step, epsilon = 1e-2)\n",
    "time_taken = time.time() - start_time\n",
    "print(f\"Time Taken by the sparce method: {time_taken}\")"
   ]
  },
  {
   "cell_type": "code",
   "execution_count": 13,
   "id": "38cee51f-6fb4-4cea-9efe-1cd99007a62b",
   "metadata": {},
   "outputs": [
    {
     "name": "stdout",
     "output_type": "stream",
     "text": [
      "              precision    recall  f1-score   support\n",
      "\n",
      "        -1.0       0.73      0.82      0.77      2493\n",
      "         1.0       0.79      0.70      0.74      2507\n",
      "\n",
      "    accuracy                           0.76      5000\n",
      "   macro avg       0.76      0.76      0.76      5000\n",
      "weighted avg       0.76      0.76      0.76      5000\n",
      "\n"
     ]
    }
   ],
   "source": [
    "(w, b) = unsparse_smo_problem.getParameters()\n",
    "svm = SVM(w, b)\n",
    "preds = svm(A[0])\n",
    "\n",
    "print(classification_report(A[1], preds, zero_division = 0))"
   ]
  },
  {
   "cell_type": "markdown",
   "id": "a8b86a08-a5b2-44b8-8e68-b8ec942034e1",
   "metadata": {},
   "source": [
    "## DCD Linear\n",
    "\n",
    "After implementing the SMO algorithm, now it's time to implement the DCD version. To maintain the uniformity in the problem definition, I will implement the dual formulation of the L1-SVM problem. "
   ]
  },
  {
   "cell_type": "code",
   "execution_count": 57,
   "id": "ba695671-5aa8-4deb-892a-081b7671c2b4",
   "metadata": {},
   "outputs": [],
   "source": [
    "class DCDDualProblem:\n",
    "\n",
    "    def __init__(self, Xs, Ys, C, epsilon = 1e-5):\n",
    "        self.X = Xs\n",
    "        self.Y = Ys\n",
    "        self.C = C\n",
    "        self.a = np.zeros_like(Ys, dtype = float)\n",
    "        self.e = np.ones_like(Ys)\n",
    "        self.diagQ = np.pow(np.sum(np.pow(Xs, 2), axis = 1, dtype = float), -1) #Inverse Diagonal of Q\n",
    "\n",
    "        self.w = np.zeros(Xs.shape[1], dtype = float)\n",
    "\n",
    "        self.epsilon = epsilon\n",
    "\n",
    "    def optimizeOver(self, index):\n",
    "        G = self.Y[index] * self.w.T @ self.X[index] - 1\n",
    "\n",
    "        if self.a[index] < self.epsilon:\n",
    "            PG = min(G, 0)\n",
    "        elif self.a[index] > self.C - self.epsilon:\n",
    "            PG = max(G, 0)\n",
    "        else:\n",
    "            PG = G\n",
    "\n",
    "        if abs(PG) < self.epsilon:\n",
    "            return\n",
    "\n",
    "        new_a = min(max(self.a[index] - G * self.diagQ[index], 0), self.C) #Notice that during initialization of the class diagQ is already inverted. In this way the code should be more efficient\n",
    "        self.w = self.w + (new_a - self.a[index]) * self.Y[index] * self.X[index]\n",
    "        self.a[index] = new_a\n",
    "\n",
    "    def getProjectedDerivative(self):\n",
    "        derivative = self.Y * (self.X @ self.w) - self.e\n",
    "        derivative[np.logical_and(self.a < self.epsilon, derivative > -self.epsilon)] = 0\n",
    "        derivative[np.logical_and(self.a > self.C - self.epsilon, derivative < self.epsilon)] = 0\n",
    "        return derivative\n",
    "\n",
    "    def getParameters(self):\n",
    "        return self.w\n"
   ]
  },
  {
   "cell_type": "markdown",
   "id": "dab3a3e4-b2e8-4a48-930a-15acd700d674",
   "metadata": {},
   "source": [
    "### Performing some tests"
   ]
  },
  {
   "cell_type": "code",
   "execution_count": 15,
   "id": "6bf2accf-e0ef-47c3-a5be-3d056cabf92b",
   "metadata": {},
   "outputs": [
    {
     "name": "stdout",
     "output_type": "stream",
     "text": [
      "Everything is working as expected!\n"
     ]
    }
   ],
   "source": [
    "# Let's test the code with some artificial data\n",
    "X = np.array([[1, 2, 3], [4, 5, 6]])\n",
    "Y = np.array([1, -1])\n",
    "C = 5\n",
    "\n",
    "diagQ = np.array([1 / (X[0].T @ X[0]), 1 / (X[1].T @ X[1])])\n",
    "\n",
    "problem = DCDDualProblem(X, Y, C)\n",
    "\n",
    "ok = True\n",
    "if (not (diagQ == problem.diagQ).all()):\n",
    "    ok = False\n",
    "    print(\"The diagonal of the matix is wrong\")\n",
    "\n",
    "if (not (-np.ones(2) == problem.getProjectedDerivative()).all()):\n",
    "    ok = False\n",
    "    print(\"The derivative calcultaion is wrong (in the initial state)\")\n",
    "\n",
    "problem.optimizeOver(0)\n",
    "\n",
    "if (not (np.array([1 / 14, 0]) == problem.a).all()):\n",
    "    ok = False\n",
    "    print(\"The optimization function doesn't work.\")\n",
    "\n",
    "derivative = np.array([Y[i] * problem.w.T @ X[i] - 1 for i in range(X.shape[0])])\n",
    "if (not (derivative == problem.getProjectedDerivative()).all()):\n",
    "    ok = False\n",
    "    print(\"The derivative calcultaion is wrong (after update)\")\n",
    "\n",
    "if (norm(np.array([1, 2, 3]) / 14 - problem.w) > 10e-5):\n",
    "    ok = False\n",
    "    print(f\"The w is wrong {problem.w}\")\n",
    "\n",
    "### Tests on second update\n",
    "problem.optimizeOver(1)\n",
    "if (norm(np.array([1, 46 / 77]) / 14 - problem.a) > 1e-5):\n",
    "    ok = False\n",
    "    print(\"The optimization function doesn't work (second update).\")\n",
    "\n",
    "derivative = np.array([Y[i] * problem.w.T @ X[i] - 1 for i in range(X.shape[0])])\n",
    "if (norm(derivative - problem.getProjectedDerivative()) > 1e-5):\n",
    "    ok = False\n",
    "    print(\"The derivative calcultaion is wrong (second update)\")\n",
    "\n",
    "if ok:\n",
    "    print(\"Everything is working as expected!\")\n"
   ]
  },
  {
   "cell_type": "markdown",
   "id": "0741f2a8-320c-4f30-b25f-9a76f1024fa9",
   "metadata": {},
   "source": [
    "### Actual Training"
   ]
  },
  {
   "cell_type": "code",
   "execution_count": 16,
   "id": "5714d161-2009-4013-8bc9-37baaee82df7",
   "metadata": {},
   "outputs": [],
   "source": [
    "def trainingDCD(problem: DCDDualProblem, loss_func: Callable[None, float] = None, validation_func: Callable[None, float] = None, epsilon = 10e-5, verbose: bool = False):\n",
    "    loss = []\n",
    "    validation = []\n",
    "    j = 0\n",
    "    while(norm(problem.getProjectedDerivative()) > epsilon):\n",
    "        if verbose:\n",
    "            print(f\"Norm:{norm(problem.getProjectedDerivative())}\")\n",
    "        j+=1\n",
    "        for i in np.random.permutation(len(problem.a)):\n",
    "            problem.optimizeOver(i)\n",
    "            w = problem.getParameters()\n",
    "            svm = SVM(w, 0)\n",
    "            \n",
    "            if(loss_func is not None):\n",
    "                loss.append(loss_func())\n",
    "        \n",
    "            if(validation_func is not None):\n",
    "                validation.append(validation_func())\n",
    "                \n",
    "    return (loss, validation)"
   ]
  },
  {
   "cell_type": "code",
   "execution_count": 17,
   "id": "dd2c497f-bb3e-478b-a28f-4e2a81842aeb",
   "metadata": {},
   "outputs": [
    {
     "name": "stdout",
     "output_type": "stream",
     "text": [
      "(546, 11)\n"
     ]
    }
   ],
   "source": [
    "explicit_bias_train = np.atleast_2d(np.ones(train_Xs.shape[0])).T\n",
    "explicit_bias_test = np.atleast_2d(np.ones(test_Xs.shape[0])).T\n",
    "\n",
    "train_Xs_unbiased = np.hstack([train_Xs, explicit_bias_train])\n",
    "test_Xs_unbiased = np.hstack([test_Xs, explicit_bias_test])\n",
    "\n",
    "print(train_Xs_unbiased.shape)"
   ]
  },
  {
   "cell_type": "code",
   "execution_count": 18,
   "id": "fa503204-d65f-4476-982e-7870a2410802",
   "metadata": {},
   "outputs": [],
   "source": [
    "base_dcd_problem = DCDDualProblem(train_Xs_unbiased, train_Ys, C = 10)\n",
    "\n",
    "(_, _) = trainingDCD(base_dcd_problem, epsilon = 1e-2)"
   ]
  },
  {
   "cell_type": "code",
   "execution_count": 19,
   "id": "e290bb0b-3b8d-4cea-8cb9-33b5acbf09a9",
   "metadata": {},
   "outputs": [
    {
     "name": "stdout",
     "output_type": "stream",
     "text": [
      "Result of the model trained using DCD on training set:\n",
      "              precision    recall  f1-score   support\n",
      "\n",
      "        -1.0       0.96      0.97      0.97       188\n",
      "         1.0       0.99      0.98      0.98       358\n",
      "\n",
      "    accuracy                           0.98       546\n",
      "   macro avg       0.97      0.98      0.98       546\n",
      "weighted avg       0.98      0.98      0.98       546\n",
      "\n",
      "Result of the model trained using DCD on test set:\n",
      "              precision    recall  f1-score   support\n",
      "\n",
      "        -1.0       0.89      0.98      0.93        51\n",
      "         1.0       0.99      0.93      0.96        86\n",
      "\n",
      "    accuracy                           0.95       137\n",
      "   macro avg       0.94      0.96      0.95       137\n",
      "weighted avg       0.95      0.95      0.95       137\n",
      "\n"
     ]
    }
   ],
   "source": [
    "w = base_dcd_problem.getParameters()\n",
    "\n",
    "dcd_svm = SVM(w, 0)\n",
    "dcd_train_preds = dcd_svm(train_Xs_unbiased)\n",
    "dcd_test_preds = dcd_svm(test_Xs_unbiased)\n",
    "\n",
    "print(\"Result of the model trained using DCD on training set:\")\n",
    "print(classification_report(train_Ys, dcd_train_preds, zero_division=0))\n",
    "\n",
    "print(\"Result of the model trained using DCD on test set:\")\n",
    "print(classification_report(test_Ys, dcd_test_preds, zero_division=0))"
   ]
  },
  {
   "cell_type": "markdown",
   "id": "0682e889-c5f0-4b0a-9b59-86ebe4c00514",
   "metadata": {},
   "source": [
    "## Verifying that the two model give good results"
   ]
  },
  {
   "cell_type": "code",
   "execution_count": 56,
   "id": "b3e471b5-0853-4f09-803a-f9d5e3173758",
   "metadata": {},
   "outputs": [
    {
     "name": "stdout",
     "output_type": "stream",
     "text": [
      "Result of the model trained using SMO on training set:\n",
      "              precision    recall  f1-score   support\n",
      "\n",
      "        -1.0       0.66      0.84      0.74       515\n",
      "         1.0       0.76      0.54      0.63       485\n",
      "\n",
      "    accuracy                           0.69      1000\n",
      "   macro avg       0.71      0.69      0.69      1000\n",
      "weighted avg       0.71      0.69      0.69      1000\n",
      "\n",
      "Result of the model trained using DCD on training set:\n",
      "              precision    recall  f1-score   support\n",
      "\n",
      "        -1.0       0.66      0.84      0.74       515\n",
      "         1.0       0.76      0.54      0.63       485\n",
      "\n",
      "    accuracy                           0.69      1000\n",
      "   macro avg       0.71      0.69      0.69      1000\n",
      "weighted avg       0.71      0.69      0.69      1000\n",
      "\n"
     ]
    }
   ],
   "source": [
    "(bias, unbias) = load_dataset(\"datasets/covtype_ones\", dimension = 1000)\n",
    "\n",
    "C = 0.1\n",
    "threshold = 1e-1\n",
    "\n",
    "smo_problem = DualSVMProblem(bias[0], bias[1], C = C)\n",
    "(_, _) = trainingSMO(smo_problem, SMO_step, epsilon = threshold)\n",
    "\n",
    "(w, b) = smo_problem.getParameters()\n",
    "svm = SVM(w, b)\n",
    "preds = svm(bias[0])\n",
    "print(\"Result of the model trained using SMO on training set:\")\n",
    "print(classification_report(bias[1], preds, zero_division=0))\n",
    "\n",
    "dcd_problem = DCDDualProblem(unbias[0], unbias[1], C = C)\n",
    "(_, _) = trainingDCD(dcd_problem, epsilon = threshold)\n",
    "w = dcd_problem.getParameters()        \n",
    "svm = SVM(w, 0)\n",
    "preds = svm(unbias[0])\n",
    "print(\"Result of the model trained using DCD on training set:\")\n",
    "print(classification_report(unbias[1], preds, zero_division=0))"
   ]
  },
  {
   "cell_type": "markdown",
   "id": "d99701d3-4e26-439d-bab2-e31e6fc9fddb",
   "metadata": {},
   "source": [
    "## Performing comparative test on speed"
   ]
  },
  {
   "cell_type": "code",
   "execution_count": 21,
   "id": "87744871-f112-4cf1-a947-ff51e889c3d7",
   "metadata": {},
   "outputs": [],
   "source": [
    "def calculate_accuracy(true_y, data, model):\n",
    "    preds = model(data)\n",
    "    return classification_report(true_y, preds, zero_division=0, output_dict=True)[\"accuracy\"]"
   ]
  },
  {
   "cell_type": "code",
   "execution_count": 58,
   "id": "33789739-6fe4-4272-a288-e64e5b5bd405",
   "metadata": {},
   "outputs": [],
   "source": [
    "def main_tests(dataset, dimensions, thresholds, C, test_size):\n",
    "    smo_results = {}\n",
    "    dcd_results = {}\n",
    "    \n",
    "    smo_results[\"dimension\"] = dimensions\n",
    "    dcd_results[\"dimension\"] = dimensions\n",
    "    \n",
    "    for d in dimensions:\n",
    "        (bias, unbias) = load_dataset(f\"datasets/{dataset}\", dimension = d)\n",
    "    \n",
    "        (W, X, Y, Z) = train_test_split(bias[0], bias[1], test_size = test_size)\n",
    "        bias = (W, Y)\n",
    "        bias_test = (X, Z)\n",
    "        \n",
    "        (W, X, Y, Z) = train_test_split(unbias[0], unbias[1], test_size = test_size)\n",
    "        unbias = (W, Y)\n",
    "        unbias_test = (X, Z)\n",
    "    \n",
    "        smo_results[\"thresholds\"] = thresholds\n",
    "        smo_results[\"times\"] = []\n",
    "        smo_results[\"primal_loss\"] = []\n",
    "        smo_results[\"dual_loss\"] = []\n",
    "        smo_results[\"train_accuracy\"] = []\n",
    "        smo_results[\"test_accuracy\"] = []\n",
    "        \n",
    "        dcd_results[\"thresholds\"] = thresholds\n",
    "        dcd_results[\"times\"] = []\n",
    "        dcd_results[\"primal_loss\"] = []\n",
    "        dcd_results[\"dual_loss\"] = []\n",
    "        dcd_results[\"train_accuracy\"] = []\n",
    "        dcd_results[\"test_accuracy\"] = []\n",
    "        \n",
    "        mat = np.stack([bias[1].T] * bias[0].shape[1], axis = 1)    \n",
    "        Z = bias[0] * mat\n",
    "        biasQ = Z @ Z.T\n",
    "    \n",
    "        mat = np.stack([unbias[1].T] * unbias[0].shape[1], axis = 1)    \n",
    "        Z = unbias[0] * mat\n",
    "        unbiasQ = Z @ Z.T\n",
    "    \n",
    "        for t in thresholds:\n",
    "            print(f\"Dataset: {dataset}\", f\"\\tDimension: {d}\", f\"\\tThreshold: {t}\")\n",
    "            print(\"\\tSMO\")\n",
    "            start_time = time.time()\n",
    "            smo_problem = DualSVMProblem(bias[0], bias[1], C = C)        \n",
    "            (_, _) = trainingSMO(smo_problem, SMO_step, epsilon = t)\n",
    "            smo_time = time.time() - start_time\n",
    "            \n",
    "            (w, b) = smo_problem.getParameters()\n",
    "            svm = SVM(w, b)\n",
    "            \n",
    "            smo_results[\"primal_loss\"].append(loss_svm(w, b, C, bias[0], bias[1]))\n",
    "            smo_results[\"dual_loss\"].append(dual_loss_svm(smo_problem.a, biasQ))\n",
    "            smo_results[\"times\"].append(smo_time)\n",
    "            smo_results[\"train_accuracy\"].append(calculate_accuracy(bias[1], bias[0], svm))\n",
    "            smo_results[\"test_accuracy\"].append(calculate_accuracy(bias_test[1], bias_test[0], svm))\n",
    "\n",
    "            print(\"\\tDCD\")\n",
    "            start_time = time.time()\n",
    "            dcd_problem = DCDDualProblem(unbias[0], unbias[1], C = C)\n",
    "            (_, _) = trainingDCD(dcd_problem, epsilon = t)\n",
    "            dcd_time = time.time() - start_time\n",
    "            \n",
    "            w = dcd_problem.getParameters()        \n",
    "            svm = SVM(w, 0)\n",
    "            dcd_results[\"primal_loss\"].append(loss_svm(w, 0, C, unbias[0], unbias[1]))\n",
    "            dcd_results[\"dual_loss\"].append(dual_loss_svm(dcd_problem.a, unbiasQ))\n",
    "            dcd_results[\"times\"].append(dcd_time)\n",
    "            dcd_results[\"train_accuracy\"].append(calculate_accuracy(unbias[1], unbias[0], svm))\n",
    "            dcd_results[\"test_accuracy\"].append(calculate_accuracy(unbias_test[1], unbias_test[0], svm))\n",
    "    \n",
    "        smo_file = open(f\"Results/smo_{d}_{C}.json\", \"w\")\n",
    "        smo_file.write(json.dumps(smo_results, indent = 2))\n",
    "        smo_file.close()\n",
    "        \n",
    "        dcd_file = open(f\"Results/dcd_{d}_{C}.json\", \"w\")\n",
    "        dcd_file.write(json.dumps(dcd_results, indent = 2))\n",
    "        dcd_file.close()\n",
    "    print(\"Test Finished\")       "
   ]
  },
  {
   "cell_type": "code",
   "execution_count": 50,
   "id": "efbb827d-e480-415d-b17e-b7e91f1a0c86",
   "metadata": {},
   "outputs": [],
   "source": [
    "dataset = \"covtype_ones\"\n",
    "thresholds = [1e-1, 1e-2, 1e-3, 1e-4]\n",
    "dimensions = [1000, 2000, 3000, 4000, 5000, 6000]\n",
    "\n",
    "if not os.path.exists(\"Results\"):\n",
    "    os.mkdir(\"Results\")\n",
    "main_tests(dataset, dimensions, thresholds, 1, 0.2)\n",
    "main_tests(dataset, dimensions, thresholds, 0.1, 0.2)"
   ]
  },
  {
   "cell_type": "markdown",
   "id": "b950b1a0-fdff-4b36-a69c-c07f17a35487",
   "metadata": {},
   "source": [
    "## Test Over different feature Number"
   ]
  },
  {
   "cell_type": "code",
   "execution_count": 61,
   "id": "99016e21-f559-4f65-9e70-346f9d7bcdab",
   "metadata": {},
   "outputs": [],
   "source": [
    "def feature_test(dataset, dimension, threshold, original_num, features_num, C, test_size):\n",
    "    smo_results = {}\n",
    "    smo_results[\"thresholds\"] = threshold\n",
    "    smo_results[\"features\"] = features_num\n",
    "    smo_results[\"times\"] = []\n",
    "    smo_results[\"primal_loss\"] = []\n",
    "    smo_results[\"dual_loss\"] = []\n",
    "    smo_results[\"train_accuracy\"] = []\n",
    "    smo_results[\"test_accuracy\"] = []\n",
    "    \n",
    "    dcd_results = {}\n",
    "    dcd_results[\"thresholds\"] = threshold\n",
    "    dcd_results[\"features\"] = features_num\n",
    "    dcd_results[\"times\"] = []\n",
    "    dcd_results[\"primal_loss\"] = []\n",
    "    dcd_results[\"dual_loss\"] = []\n",
    "    dcd_results[\"train_accuracy\"] = []\n",
    "    dcd_results[\"test_accuracy\"] = []\n",
    "    \n",
    "    smo_results[\"dimension\"] = dimension\n",
    "    dcd_results[\"dimension\"] = dimension\n",
    "    \n",
    "    for f in features_num:\n",
    "        features = feature_extractor(f, original_num)    \n",
    "        (bias, unbias) = load_dataset(f\"datasets/{dataset}\", dimension = dimension, features = features)\n",
    "    \n",
    "        (W, X, Y, Z) = train_test_split(bias[0], bias[1], test_size = test_size)\n",
    "        bias = (W, Y)\n",
    "        bias_test = (X, Z)\n",
    "        \n",
    "        (W, X, Y, Z) = train_test_split(unbias[0], unbias[1], test_size = test_size)\n",
    "        unbias = (W, Y)\n",
    "        unbias_test = (X, Z)\n",
    "        \n",
    "        mat = np.stack([bias[1].T] * bias[0].shape[1], axis = 1)    \n",
    "        Z = bias[0] * mat\n",
    "        biasQ = Z @ Z.T\n",
    "    \n",
    "        mat = np.stack([unbias[1].T] * unbias[0].shape[1], axis = 1)    \n",
    "        Z = unbias[0] * mat\n",
    "        unbiasQ = Z @ Z.T\n",
    "        \n",
    "        print(f\"Dataset: {dataset}\",f\"\\tThreshold: {threshold}\", f\"\\tFeatures {f}\")\n",
    "            \n",
    "        start_time = time.time()\n",
    "        smo_problem = DualSVMProblem(bias[0], bias[1], C)        \n",
    "        (_, _) = trainingSMO(smo_problem, SMO_step, epsilon = threshold)\n",
    "        smo_time = time.time() - start_time\n",
    "        \n",
    "        (w, b) = smo_problem.getParameters()\n",
    "        svm = SVM(w, b)\n",
    "    \n",
    "        smo_results[\"primal_loss\"].append(loss_svm(w, b, C, bias[0], bias[1]))\n",
    "        smo_results[\"dual_loss\"].append(dual_loss_svm(smo_problem.a, biasQ))\n",
    "        smo_results[\"times\"].append(smo_time)\n",
    "        smo_results[\"train_accuracy\"].append(calculate_accuracy(bias[1], bias[0], svm))\n",
    "        smo_results[\"test_accuracy\"].append(calculate_accuracy(bias_test[1], bias_test[0], svm))\n",
    "        \n",
    "        start_time = time.time()\n",
    "        dcd_problem = DCDDualProblem(unbias[0], unbias[1], C)\n",
    "        (_, _) = trainingDCD(dcd_problem, epsilon = threshold)\n",
    "        dcd_time = time.time() - start_time\n",
    "        \n",
    "        w = dcd_problem.getParameters()        \n",
    "        svm = SVM(w, 0)\n",
    "        \n",
    "        dcd_results[\"primal_loss\"].append(loss_svm(w, 0, C, unbias[0], unbias[1]))\n",
    "        dcd_results[\"dual_loss\"].append(dual_loss_svm(dcd_problem.a, unbiasQ))\n",
    "        dcd_results[\"times\"].append(dcd_time)\n",
    "        dcd_results[\"train_accuracy\"].append(calculate_accuracy(unbias[1], unbias[0], svm))\n",
    "        dcd_results[\"test_accuracy\"].append(calculate_accuracy(unbias_test[1], unbias_test[0], svm))\n",
    "        \n",
    "    smo_file = open(f\"Results/smo_features_{C}.json\", \"w\")\n",
    "    smo_file.write(json.dumps(smo_results, indent = 2))\n",
    "    smo_file.close()\n",
    "    \n",
    "    dcd_file = open(f\"Results/dcd_features_{C}.json\", \"w\")\n",
    "    dcd_file.write(json.dumps(dcd_results, indent = 2))\n",
    "    dcd_file.close()\n",
    "    print(\"Test Finished\")"
   ]
  },
  {
   "cell_type": "code",
   "execution_count": 62,
   "id": "204083b4-7599-4e28-83ba-56ef90981953",
   "metadata": {},
   "outputs": [
    {
     "name": "stdout",
     "output_type": "stream",
     "text": [
      "Dataset: covtype_ones \tThreshold: 0.001 \tFeatures 20\n",
      "Dataset: covtype_ones \tThreshold: 0.001 \tFeatures 30\n",
      "Dataset: covtype_ones \tThreshold: 0.001 \tFeatures 40\n",
      "Dataset: covtype_ones \tThreshold: 0.001 \tFeatures 54\n",
      "Test Finished\n",
      "Dataset: covtype_ones \tThreshold: 0.001 \tFeatures 20\n",
      "Dataset: covtype_ones \tThreshold: 0.001 \tFeatures 30\n",
      "Dataset: covtype_ones \tThreshold: 0.001 \tFeatures 40\n",
      "Dataset: covtype_ones \tThreshold: 0.001 \tFeatures 54\n",
      "Test Finished\n"
     ]
    }
   ],
   "source": [
    "threshold = 1e-3\n",
    "dataset = \"covtype_ones\"\n",
    "original_num = 54\n",
    "features_num = [20, 30, 40, 54]\n",
    "\n",
    "C = 1\n",
    "\n",
    "dimension = 3000\n",
    "test_size = 0.20\n",
    "\n",
    "feature_test(dataset, dimension, threshold, original_num, features_num, 1, 0.20)\n",
    "feature_test(dataset, dimension, threshold, original_num, features_num, 0.1, 0.20)"
   ]
  },
  {
   "cell_type": "markdown",
   "id": "a9462ddf-04d0-474d-92f5-1e0cf5d114cb",
   "metadata": {},
   "source": [
    "## Results Over Dimension"
   ]
  },
  {
   "cell_type": "code",
   "execution_count": 97,
   "id": "373a0af6-4fff-4396-936e-f8bbaff6058a",
   "metadata": {},
   "outputs": [
    {
     "data": {
      "image/png": "[encoded data removed]",
      "text/plain": [
       "<Figure size 640x480 with 1 Axes>"
      ]
     },
     "metadata": {},
     "output_type": "display_data"
    }
   ],
   "source": [
    "def plot_over_dimension(dimensions, C, index, save = False):\n",
    "\n",
    "    fig, ax = plt.subplots()\n",
    "    smo_dimensions = []\n",
    "    smo_times = []\n",
    "    \n",
    "    dcd_dimensions = []\n",
    "    dcd_times = []\n",
    "    \n",
    "    for d in dimensions:\n",
    "        smo_file = open(f\"Results/smo_{d}_{C}.json\", \"r\")\n",
    "        smo_results = json.loads(smo_file.read())\n",
    "        smo_times.append(smo_results[\"times\"][index])\n",
    "        smo_file.close()\n",
    "        \n",
    "        dcd_file = open(f\"Results/dcd_{d}_{C}.json\", \"r\")\n",
    "        dcd_results = json.loads(dcd_file.read())\n",
    "        dcd_times.append(dcd_results[\"times\"][index])\n",
    "        dcd_file.close()\n",
    "    \n",
    "    plt.plot(dimensions, smo_times, label = \"SMO\", marker='o', linestyle='dashed')\n",
    "    plt.plot(dimensions, dcd_times, label = \"DCD\", marker='o', linestyle='dashed')\n",
    "    \n",
    "    plt.xlabel(\"Dataset Dimension [#]\")\n",
    "    plt.ylabel(\"Time Taken [s]\")\n",
    "    plt.title(f\"Time taken with threshold {smo_results[\"thresholds\"][index]}\")\n",
    "    \n",
    "    plt.legend()\n",
    "\n",
    "    if save:\n",
    "        if not os.path.exists(\"Plots\"):\n",
    "            os.mkdir(\"Plots\")\n",
    "    \n",
    "        plt.savefig(f\"Plots/dimensions_{smo_results[\"thresholds\"][index]}_{C}.png\")\n",
    "        plt.close()\n",
    "plot_over_dimension(dimensions, 1, 0)"
   ]
  },
  {
   "cell_type": "markdown",
   "id": "efdc467f-fa45-42c2-9fb5-957de5209f8e",
   "metadata": {},
   "source": [
    "## Results Over Threshold"
   ]
  },
  {
   "cell_type": "code",
   "execution_count": 103,
   "id": "f8866e6b-a5c8-4dff-9f2c-50cdc283360e",
   "metadata": {},
   "outputs": [
    {
     "data": {
      "image/png": "[encoded data removed]",
      "text/plain": [
       "<Figure size 640x480 with 1 Axes>"
      ]
     },
     "metadata": {},
     "output_type": "display_data"
    }
   ],
   "source": [
    "def plot_over_threshold(dimension, C, save = False):\n",
    "    fig, ax = plt.subplots()\n",
    "    \n",
    "    smo_file = open(f\"Results/smo_{dimension}_{C}.json\", \"r\")\n",
    "    smo_results = json.loads(smo_file.read())\n",
    "    smo_file.close()\n",
    "    \n",
    "    dcd_file = open(f\"Results/dcd_{dimension}_{C}.json\", \"r\")\n",
    "    dcd_results = json.loads(dcd_file.read())\n",
    "    dcd_file.close()\n",
    "    \n",
    "    plt.plot(smo_results[\"times\"], smo_results[\"thresholds\"], label = \"SMO\", marker='o', linestyle='dashed')\n",
    "    plt.plot(dcd_results[\"times\"], dcd_results[\"thresholds\"], label = \"DCD\", marker='o', linestyle='dashed')\n",
    "    \n",
    "    plt.ylabel(\"Threshold [#]\")\n",
    "    plt.xlabel(\"Time Taken [s]\")\n",
    "    plt.title(f\"Time taken with {dimension} elements (C = {C})\")\n",
    "    \n",
    "    ax.set_yscale(\"log\")\n",
    "    \n",
    "    plt.legend()\n",
    "\n",
    "    if save:\n",
    "        if not os.path.exists(\"Plots\"):\n",
    "            os.mkdir(\"Plots\")\n",
    "    \n",
    "        plt.savefig(f\"Plots/thresholds_{dimension}_{C}.png\")\n",
    "        plt.close()\n",
    "\n",
    "plot_over_threshold(6000, 1)"
   ]
  },
  {
   "cell_type": "markdown",
   "id": "07b5ebe0-16d3-4c30-937c-8a64dbee6529",
   "metadata": {},
   "source": [
    "## Plot of accuracy related to the threshold"
   ]
  },
  {
   "cell_type": "code",
   "execution_count": 102,
   "id": "556c0000-2c04-4c45-a4ed-1e0d1da943ed",
   "metadata": {},
   "outputs": [
    {
     "data": {
      "image/png": "[encoded data removed]",
      "text/plain": [
       "<Figure size 640x480 with 1 Axes>"
      ]
     },
     "metadata": {},
     "output_type": "display_data"
    }
   ],
   "source": [
    "def plot_over_accuracy(dimension, C, save = False, train = False):\n",
    "    fig, ax = plt.subplots()\n",
    "    \n",
    "    smo_file = open(f\"Results/smo_{dimension}_{C}.json\", \"r\")\n",
    "    smo_results = json.loads(smo_file.read())\n",
    "    smo_file.close()\n",
    "    \n",
    "    dcd_file = open(f\"Results/dcd_{dimension}_{C}.json\", \"r\")\n",
    "    dcd_results = json.loads(dcd_file.read())\n",
    "    dcd_file.close()\n",
    "\n",
    "    if train:\n",
    "        plt.plot(smo_results[\"train_accuracy\"], smo_results[\"thresholds\"], label = \"SMO\", marker='o', linestyle='dashed')\n",
    "        plt.plot(dcd_results[\"train_accuracy\"], dcd_results[\"thresholds\"], label = \"DCD\", marker='o', linestyle='dashed')\n",
    "    else:\n",
    "        plt.plot(smo_results[\"test_accuracy\"], smo_results[\"thresholds\"], label = \"SMO\", marker='o', linestyle='dashed')\n",
    "        plt.plot(dcd_results[\"test_accuracy\"], dcd_results[\"thresholds\"], label = \"DCD\", marker='o', linestyle='dashed')\n",
    "    \n",
    "    plt.ylabel(\"Threshold [#]\")\n",
    "    if train:\n",
    "        plt.xlabel(\"Train Accuracy\")\n",
    "        plt.title(f\"Train accuracy with {dimension} elements (C = {C})\")\n",
    "    else:\n",
    "        plt.xlabel(\"Test Accuracy\")\n",
    "        plt.title(f\"Test accuracy with {dimension} elements (C = {C})\")\n",
    "    \n",
    "    ax.set_yscale(\"log\")\n",
    "    \n",
    "    plt.legend()\n",
    "\n",
    "    if save:\n",
    "        if not os.path.exists(\"Plots\"):\n",
    "            os.mkdir(\"Plots\")\n",
    "        if train:\n",
    "            plt.savefig(f\"Plots/accuracy_{dimension}_{C}_train.png\")\n",
    "        else:\n",
    "            plt.savefig(f\"Plots/accuracy_{dimension}_{C}_test.png\")\n",
    "        plt.clf()\n",
    "            \n",
    "plot_over_accuracy(5000, 1)"
   ]
  },
  {
   "cell_type": "markdown",
   "id": "3fac6822-5210-4206-adaf-ef35159f9c13",
   "metadata": {},
   "source": [
    "## Results Over Features"
   ]
  },
  {
   "cell_type": "code",
   "execution_count": 100,
   "id": "613bde42-95a1-4001-a01c-97baa2729c77",
   "metadata": {},
   "outputs": [
    {
     "data": {
      "image/png": "[encoded data removed]",
      "text/plain": [
       "<Figure size 640x480 with 1 Axes>"
      ]
     },
     "metadata": {},
     "output_type": "display_data"
    }
   ],
   "source": [
    "def plot_over_feature(C, save = False):\n",
    "    fig, ax = plt.subplots()\n",
    "    \n",
    "    smo_file = open(f\"Results/smo_features_{C}.json\", \"r\")\n",
    "    smo_results = json.loads(smo_file.read())\n",
    "    smo_file.close()\n",
    "    \n",
    "    dcd_file = open(f\"Results/dcd_features_{C}.json\", \"r\")\n",
    "    dcd_results = json.loads(dcd_file.read())\n",
    "    dcd_file.close()\n",
    "    \n",
    "    plt.plot(smo_results[\"features\"], smo_results[\"times\"], label = \"SMO\", marker='o', linestyle='dashed')\n",
    "    plt.plot(dcd_results[\"features\"], dcd_results[\"times\"], label = \"DCD\", marker='o', linestyle='dashed')\n",
    "    \n",
    "    plt.xlabel(\"feature Number [#]\")\n",
    "    plt.ylabel(\"Time Taken [s]\")\n",
    "    plt.title(f\"Threashold {smo_results[\"thresholds\"]}, {smo_results[\"dimension\"]} elements,  C = {C}\")\n",
    "    \n",
    "    plt.legend()\n",
    "    if save:\n",
    "        if not os.path.exists(\"Plots\"):\n",
    "            os.mkdir(\"Plots\")\n",
    "    \n",
    "        plt.savefig(f\"Plots/features_{C}.png\")\n",
    "        plt.close()\n",
    "    \n",
    "plot_over_feature(1)"
   ]
  },
  {
   "cell_type": "markdown",
   "id": "847c3e44-a0f6-46f0-9aac-62783bbc60a8",
   "metadata": {},
   "source": [
    "## Generating all Plots"
   ]
  },
  {
   "cell_type": "code",
   "execution_count": 104,
   "id": "a2d5a711-2efe-45c9-ba2a-fad8d2cd7c21",
   "metadata": {},
   "outputs": [
    {
     "data": {
      "text/plain": [
       "<Figure size 640x480 with 0 Axes>"
      ]
     },
     "metadata": {},
     "output_type": "display_data"
    },
    {
     "data": {
      "text/plain": [
       "<Figure size 640x480 with 0 Axes>"
      ]
     },
     "metadata": {},
     "output_type": "display_data"
    },
    {
     "data": {
      "text/plain": [
       "<Figure size 640x480 with 0 Axes>"
      ]
     },
     "metadata": {},
     "output_type": "display_data"
    },
    {
     "data": {
      "text/plain": [
       "<Figure size 640x480 with 0 Axes>"
      ]
     },
     "metadata": {},
     "output_type": "display_data"
    },
    {
     "data": {
      "text/plain": [
       "<Figure size 640x480 with 0 Axes>"
      ]
     },
     "metadata": {},
     "output_type": "display_data"
    },
    {
     "data": {
      "text/plain": [
       "<Figure size 640x480 with 0 Axes>"
      ]
     },
     "metadata": {},
     "output_type": "display_data"
    },
    {
     "data": {
      "text/plain": [
       "<Figure size 640x480 with 0 Axes>"
      ]
     },
     "metadata": {},
     "output_type": "display_data"
    },
    {
     "data": {
      "text/plain": [
       "<Figure size 640x480 with 0 Axes>"
      ]
     },
     "metadata": {},
     "output_type": "display_data"
    },
    {
     "data": {
      "text/plain": [
       "<Figure size 640x480 with 0 Axes>"
      ]
     },
     "metadata": {},
     "output_type": "display_data"
    },
    {
     "data": {
      "text/plain": [
       "<Figure size 640x480 with 0 Axes>"
      ]
     },
     "metadata": {},
     "output_type": "display_data"
    },
    {
     "data": {
      "text/plain": [
       "<Figure size 640x480 with 0 Axes>"
      ]
     },
     "metadata": {},
     "output_type": "display_data"
    },
    {
     "data": {
      "text/plain": [
       "<Figure size 640x480 with 0 Axes>"
      ]
     },
     "metadata": {},
     "output_type": "display_data"
    }
   ],
   "source": [
    "for i in range(len(thresholds)):\n",
    "    plot_over_dimension(dimensions, 1, i, save = True)\n",
    "    plot_over_dimension(dimensions, 0.1, i, save = True)\n",
    "\n",
    "for d in dimensions:\n",
    "    plot_over_threshold(d, 1, save = True)\n",
    "    plot_over_threshold(d, 0.1, save = True)\n",
    "\n",
    "for d in dimensions:\n",
    "    plot_over_accuracy(d, 1, save = True)\n",
    "    plot_over_accuracy(d, 0.1, save = True)\n",
    "\n",
    "plot_over_feature(1, save = True)\n",
    "plot_over_feature(0.1, save = True)"
   ]
  },
  {
   "cell_type": "code",
   "execution_count": null,
   "id": "db460fe3-c409-42a8-bfc3-0825a681fdff",
   "metadata": {},
   "outputs": [],
   "source": []
  }
 ],
 "metadata": {
  "kernelspec": {
   "display_name": "Python 3 (ipykernel)",
   "language": "python",
   "name": "python3"
  },
  "language_info": {
   "codemirror_mode": {
    "name": "ipython",
    "version": 3
   },
   "file_extension": ".py",
   "mimetype": "text/x-python",
   "name": "python",
   "nbconvert_exporter": "python",
   "pygments_lexer": "ipython3",
   "version": "3.12.2"
  }
 },
 "nbformat": 4,
 "nbformat_minor": 5
}
